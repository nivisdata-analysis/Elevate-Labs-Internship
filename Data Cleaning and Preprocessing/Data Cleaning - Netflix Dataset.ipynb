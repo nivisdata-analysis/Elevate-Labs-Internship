{
 "cells": [
  {
   "cell_type": "markdown",
   "id": "2c0cc2c4-7eb8-4ac7-aad5-7bd0a8294a93",
   "metadata": {},
   "source": [
    "### Netflix Movies And TV Shows - EDA"
   ]
  },
  {
   "cell_type": "code",
   "execution_count": 2,
   "id": "64bf6bc9-8fb8-4173-b8b0-89048eae247e",
   "metadata": {},
   "outputs": [],
   "source": [
    "# Importing all the necessary libraries\n",
    "import pandas as pd\n",
    "import numpy as np\n",
    "from matplotlib import pyplot as plt \n",
    "import seaborn as sns\n",
    "import datetime as dt"
   ]
  },
  {
   "cell_type": "markdown",
   "id": "badd52b2-8362-47cf-b79f-3dee8fe9fe8f",
   "metadata": {},
   "source": [
    "Loading the dataset using pandas"
   ]
  },
  {
   "cell_type": "code",
   "execution_count": 4,
   "id": "9f6eb6f0-b89c-4ecc-bf8b-830ae3341ab7",
   "metadata": {},
   "outputs": [
    {
     "data": {
      "text/html": [
       "<div>\n",
       "<style scoped>\n",
       "    .dataframe tbody tr th:only-of-type {\n",
       "        vertical-align: middle;\n",
       "    }\n",
       "\n",
       "    .dataframe tbody tr th {\n",
       "        vertical-align: top;\n",
       "    }\n",
       "\n",
       "    .dataframe thead th {\n",
       "        text-align: right;\n",
       "    }\n",
       "</style>\n",
       "<table border=\"1\" class=\"dataframe\">\n",
       "  <thead>\n",
       "    <tr style=\"text-align: right;\">\n",
       "      <th></th>\n",
       "      <th>show_id</th>\n",
       "      <th>type</th>\n",
       "      <th>title</th>\n",
       "      <th>director</th>\n",
       "      <th>cast</th>\n",
       "      <th>country</th>\n",
       "      <th>date_added</th>\n",
       "      <th>release_year</th>\n",
       "      <th>rating</th>\n",
       "      <th>duration</th>\n",
       "      <th>listed_in</th>\n",
       "      <th>description</th>\n",
       "    </tr>\n",
       "  </thead>\n",
       "  <tbody>\n",
       "    <tr>\n",
       "      <th>0</th>\n",
       "      <td>s1</td>\n",
       "      <td>Movie</td>\n",
       "      <td>Dick Johnson Is Dead</td>\n",
       "      <td>Kirsten Johnson</td>\n",
       "      <td>NaN</td>\n",
       "      <td>United States</td>\n",
       "      <td>September 25, 2021</td>\n",
       "      <td>2020</td>\n",
       "      <td>PG-13</td>\n",
       "      <td>90 min</td>\n",
       "      <td>Documentaries</td>\n",
       "      <td>As her father nears the end of his life, filmm...</td>\n",
       "    </tr>\n",
       "    <tr>\n",
       "      <th>1</th>\n",
       "      <td>s2</td>\n",
       "      <td>TV Show</td>\n",
       "      <td>Blood &amp; Water</td>\n",
       "      <td>NaN</td>\n",
       "      <td>Ama Qamata, Khosi Ngema, Gail Mabalane, Thaban...</td>\n",
       "      <td>South Africa</td>\n",
       "      <td>September 24, 2021</td>\n",
       "      <td>2021</td>\n",
       "      <td>TV-MA</td>\n",
       "      <td>2 Seasons</td>\n",
       "      <td>International TV Shows, TV Dramas, TV Mysteries</td>\n",
       "      <td>After crossing paths at a party, a Cape Town t...</td>\n",
       "    </tr>\n",
       "    <tr>\n",
       "      <th>2</th>\n",
       "      <td>s3</td>\n",
       "      <td>TV Show</td>\n",
       "      <td>Ganglands</td>\n",
       "      <td>Julien Leclercq</td>\n",
       "      <td>Sami Bouajila, Tracy Gotoas, Samuel Jouy, Nabi...</td>\n",
       "      <td>NaN</td>\n",
       "      <td>September 24, 2021</td>\n",
       "      <td>2021</td>\n",
       "      <td>TV-MA</td>\n",
       "      <td>1 Season</td>\n",
       "      <td>Crime TV Shows, International TV Shows, TV Act...</td>\n",
       "      <td>To protect his family from a powerful drug lor...</td>\n",
       "    </tr>\n",
       "    <tr>\n",
       "      <th>3</th>\n",
       "      <td>s4</td>\n",
       "      <td>TV Show</td>\n",
       "      <td>Jailbirds New Orleans</td>\n",
       "      <td>NaN</td>\n",
       "      <td>NaN</td>\n",
       "      <td>NaN</td>\n",
       "      <td>September 24, 2021</td>\n",
       "      <td>2021</td>\n",
       "      <td>TV-MA</td>\n",
       "      <td>1 Season</td>\n",
       "      <td>Docuseries, Reality TV</td>\n",
       "      <td>Feuds, flirtations and toilet talk go down amo...</td>\n",
       "    </tr>\n",
       "    <tr>\n",
       "      <th>4</th>\n",
       "      <td>s5</td>\n",
       "      <td>TV Show</td>\n",
       "      <td>Kota Factory</td>\n",
       "      <td>NaN</td>\n",
       "      <td>Mayur More, Jitendra Kumar, Ranjan Raj, Alam K...</td>\n",
       "      <td>India</td>\n",
       "      <td>September 24, 2021</td>\n",
       "      <td>2021</td>\n",
       "      <td>TV-MA</td>\n",
       "      <td>2 Seasons</td>\n",
       "      <td>International TV Shows, Romantic TV Shows, TV ...</td>\n",
       "      <td>In a city of coaching centers known to train I...</td>\n",
       "    </tr>\n",
       "  </tbody>\n",
       "</table>\n",
       "</div>"
      ],
      "text/plain": [
       "  show_id     type                  title         director  \\\n",
       "0      s1    Movie   Dick Johnson Is Dead  Kirsten Johnson   \n",
       "1      s2  TV Show          Blood & Water              NaN   \n",
       "2      s3  TV Show              Ganglands  Julien Leclercq   \n",
       "3      s4  TV Show  Jailbirds New Orleans              NaN   \n",
       "4      s5  TV Show           Kota Factory              NaN   \n",
       "\n",
       "                                                cast        country  \\\n",
       "0                                                NaN  United States   \n",
       "1  Ama Qamata, Khosi Ngema, Gail Mabalane, Thaban...   South Africa   \n",
       "2  Sami Bouajila, Tracy Gotoas, Samuel Jouy, Nabi...            NaN   \n",
       "3                                                NaN            NaN   \n",
       "4  Mayur More, Jitendra Kumar, Ranjan Raj, Alam K...          India   \n",
       "\n",
       "           date_added  release_year rating   duration  \\\n",
       "0  September 25, 2021          2020  PG-13     90 min   \n",
       "1  September 24, 2021          2021  TV-MA  2 Seasons   \n",
       "2  September 24, 2021          2021  TV-MA   1 Season   \n",
       "3  September 24, 2021          2021  TV-MA   1 Season   \n",
       "4  September 24, 2021          2021  TV-MA  2 Seasons   \n",
       "\n",
       "                                           listed_in  \\\n",
       "0                                      Documentaries   \n",
       "1    International TV Shows, TV Dramas, TV Mysteries   \n",
       "2  Crime TV Shows, International TV Shows, TV Act...   \n",
       "3                             Docuseries, Reality TV   \n",
       "4  International TV Shows, Romantic TV Shows, TV ...   \n",
       "\n",
       "                                         description  \n",
       "0  As her father nears the end of his life, filmm...  \n",
       "1  After crossing paths at a party, a Cape Town t...  \n",
       "2  To protect his family from a powerful drug lor...  \n",
       "3  Feuds, flirtations and toilet talk go down amo...  \n",
       "4  In a city of coaching centers known to train I...  "
      ]
     },
     "execution_count": 4,
     "metadata": {},
     "output_type": "execute_result"
    }
   ],
   "source": [
    "df = pd.read_csv('netflix_titles.csv')\n",
    "df.head()"
   ]
  },
  {
   "cell_type": "code",
   "execution_count": 5,
   "id": "ca1d6166-6079-4fdc-8172-3ae548efb9e7",
   "metadata": {},
   "outputs": [
    {
     "data": {
      "text/plain": [
       "(8807, 12)"
      ]
     },
     "execution_count": 5,
     "metadata": {},
     "output_type": "execute_result"
    }
   ],
   "source": [
    "# Dataset shape\n",
    "df.shape"
   ]
  },
  {
   "cell_type": "code",
   "execution_count": 6,
   "id": "a3cff61f-c18d-4b48-9b17-601de99bd6f6",
   "metadata": {},
   "outputs": [
    {
     "name": "stdout",
     "output_type": "stream",
     "text": [
      "<class 'pandas.core.frame.DataFrame'>\n",
      "RangeIndex: 8807 entries, 0 to 8806\n",
      "Data columns (total 12 columns):\n",
      " #   Column        Non-Null Count  Dtype \n",
      "---  ------        --------------  ----- \n",
      " 0   show_id       8807 non-null   object\n",
      " 1   type          8807 non-null   object\n",
      " 2   title         8807 non-null   object\n",
      " 3   director      6173 non-null   object\n",
      " 4   cast          7982 non-null   object\n",
      " 5   country       7976 non-null   object\n",
      " 6   date_added    8797 non-null   object\n",
      " 7   release_year  8807 non-null   int64 \n",
      " 8   rating        8803 non-null   object\n",
      " 9   duration      8804 non-null   object\n",
      " 10  listed_in     8807 non-null   object\n",
      " 11  description   8807 non-null   object\n",
      "dtypes: int64(1), object(11)\n",
      "memory usage: 825.8+ KB\n"
     ]
    }
   ],
   "source": [
    "# Data types & non-null counts\n",
    "df.info()"
   ]
  },
  {
   "cell_type": "code",
   "execution_count": 7,
   "id": "27a76cde-4f94-456f-93b4-eafa1bb7cb47",
   "metadata": {},
   "outputs": [
    {
     "data": {
      "text/html": [
       "<div>\n",
       "<style scoped>\n",
       "    .dataframe tbody tr th:only-of-type {\n",
       "        vertical-align: middle;\n",
       "    }\n",
       "\n",
       "    .dataframe tbody tr th {\n",
       "        vertical-align: top;\n",
       "    }\n",
       "\n",
       "    .dataframe thead th {\n",
       "        text-align: right;\n",
       "    }\n",
       "</style>\n",
       "<table border=\"1\" class=\"dataframe\">\n",
       "  <thead>\n",
       "    <tr style=\"text-align: right;\">\n",
       "      <th></th>\n",
       "      <th>release_year</th>\n",
       "    </tr>\n",
       "  </thead>\n",
       "  <tbody>\n",
       "    <tr>\n",
       "      <th>count</th>\n",
       "      <td>8807.000000</td>\n",
       "    </tr>\n",
       "    <tr>\n",
       "      <th>mean</th>\n",
       "      <td>2014.180198</td>\n",
       "    </tr>\n",
       "    <tr>\n",
       "      <th>std</th>\n",
       "      <td>8.819312</td>\n",
       "    </tr>\n",
       "    <tr>\n",
       "      <th>min</th>\n",
       "      <td>1925.000000</td>\n",
       "    </tr>\n",
       "    <tr>\n",
       "      <th>25%</th>\n",
       "      <td>2013.000000</td>\n",
       "    </tr>\n",
       "    <tr>\n",
       "      <th>50%</th>\n",
       "      <td>2017.000000</td>\n",
       "    </tr>\n",
       "    <tr>\n",
       "      <th>75%</th>\n",
       "      <td>2019.000000</td>\n",
       "    </tr>\n",
       "    <tr>\n",
       "      <th>max</th>\n",
       "      <td>2021.000000</td>\n",
       "    </tr>\n",
       "  </tbody>\n",
       "</table>\n",
       "</div>"
      ],
      "text/plain": [
       "       release_year\n",
       "count   8807.000000\n",
       "mean    2014.180198\n",
       "std        8.819312\n",
       "min     1925.000000\n",
       "25%     2013.000000\n",
       "50%     2017.000000\n",
       "75%     2019.000000\n",
       "max     2021.000000"
      ]
     },
     "execution_count": 7,
     "metadata": {},
     "output_type": "execute_result"
    }
   ],
   "source": [
    "# Summary stats\n",
    "df.describe()"
   ]
  },
  {
   "cell_type": "code",
   "execution_count": 8,
   "id": "e10b6d81-1816-4500-aa5f-68966cb3aa9f",
   "metadata": {},
   "outputs": [
    {
     "name": "stdout",
     "output_type": "stream",
     "text": [
      "0\n"
     ]
    },
    {
     "data": {
      "text/plain": [
       "0"
      ]
     },
     "execution_count": 8,
     "metadata": {},
     "output_type": "execute_result"
    }
   ],
   "source": [
    "# Checking for duplicates in the entire dataset\n",
    "print(df.duplicated().sum())\n",
    "# checking for duplicates in unique id\n",
    "df['show_id'].duplicated().sum()"
   ]
  },
  {
   "cell_type": "markdown",
   "id": "27b35d15-ac99-4e47-b2d2-1265c46d40d6",
   "metadata": {},
   "source": [
    "There are no duplicates in the dataset."
   ]
  },
  {
   "cell_type": "code",
   "execution_count": 10,
   "id": "1f216d58-0d90-4a34-b0aa-19dea4f5ebfa",
   "metadata": {},
   "outputs": [
    {
     "data": {
      "text/plain": [
       "director      2634\n",
       "cast           825\n",
       "country        831\n",
       "date_added      10\n",
       "rating           4\n",
       "duration         3\n",
       "dtype: int64"
      ]
     },
     "execution_count": 10,
     "metadata": {},
     "output_type": "execute_result"
    }
   ],
   "source": [
    "# Checking for missing values\n",
    "missing_values = df.isnull().sum()\n",
    "missing_values = missing_values[missing_values > 0]\n",
    "missing_values"
   ]
  },
  {
   "cell_type": "code",
   "execution_count": 11,
   "id": "4a7e2398-26f4-410d-ba95-5659c16f2a9c",
   "metadata": {},
   "outputs": [
    {
     "data": {
      "text/plain": [
       "director      29.91\n",
       "cast           9.37\n",
       "country        9.44\n",
       "date_added     0.11\n",
       "rating         0.05\n",
       "duration       0.03\n",
       "dtype: float64"
      ]
     },
     "execution_count": 11,
     "metadata": {},
     "output_type": "execute_result"
    }
   ],
   "source": [
    "# Calculate percentage of missing data\n",
    "missing_percentage = (missing_values / len(df)) * 100\n",
    "missing_percentage.round(2)"
   ]
  },
  {
   "cell_type": "markdown",
   "id": "f4198934-fd92-42b4-a6a5-9ee8353d4929",
   "metadata": {},
   "source": [
    "### Handling Missing Values\n",
    "\n",
    "The missing values were found in the following variables:\n",
    "\n",
    "- **director**: This variable is considered not essential for the analysis as it does not provide significant information.\n",
    "- **cast**: Due to the large variety of values in this variable, it offers limited actionable insights and will not be included in the analysis.\n",
    "- **country**: This is an important variable, so we will explore strategies to address missing values, possibly by imputing with the mode.\n",
    "- **date_added**: Since we need to parse this column, we will convert this to datetime, and leave missing values as NaT.\n",
    "- **rating**: The missing cases are minimal but this is an important column so we will fill it with the most common value\n",
    "- **duration**: Upon further investigation, we found that there is an issue of data misalignment with this and `rating` column."
   ]
  },
  {
   "cell_type": "markdown",
   "id": "84e81e67-cc4e-457a-b446-acab7308de49",
   "metadata": {},
   "source": [
    "#### Fix cast and director column"
   ]
  },
  {
   "cell_type": "code",
   "execution_count": 14,
   "id": "5bea301c-66b6-4cae-afbb-2ea46cf48fc0",
   "metadata": {},
   "outputs": [
    {
     "data": {
      "text/plain": [
       "Index(['show_id', 'type', 'title', 'country', 'date_added', 'release_year',\n",
       "       'rating', 'duration', 'listed_in', 'description'],\n",
       "      dtype='object')"
      ]
     },
     "execution_count": 14,
     "metadata": {},
     "output_type": "execute_result"
    }
   ],
   "source": [
    "df = df.drop(['director', 'cast'], axis=1)\n",
    "df.columns"
   ]
  },
  {
   "cell_type": "markdown",
   "id": "1e082895-65e7-4583-99de-680ca10b3559",
   "metadata": {},
   "source": [
    "#### Fix missing country values"
   ]
  },
  {
   "cell_type": "markdown",
   "id": "e2581736-ff46-4d77-bcd6-5ab02f1f3b6a",
   "metadata": {},
   "source": [
    "We replaced all the Nan values in the country column with United States as Netflix was created in the USA and <br> \n",
    "every show is aired on Netflix US. So instead of dropping the whole column we just replaced the values in it in order to save our data."
   ]
  },
  {
   "cell_type": "code",
   "execution_count": 17,
   "id": "84281721-273e-426c-8d1a-ada082c0b487",
   "metadata": {},
   "outputs": [],
   "source": [
    "# Replace missing 'country' values with the mode\n",
    "country_mode = df['country'].mode()[0]\n",
    "df['country'] = df['country'].fillna(country_mode)"
   ]
  },
  {
   "cell_type": "markdown",
   "id": "4222d3e7-279d-44df-9212-cafff93d474f",
   "metadata": {},
   "source": [
    "#### Fix missing duration"
   ]
  },
  {
   "cell_type": "code",
   "execution_count": 19,
   "id": "f5f5cc94-27ef-4289-8ddf-06debed03301",
   "metadata": {},
   "outputs": [
    {
     "data": {
      "text/html": [
       "<div>\n",
       "<style scoped>\n",
       "    .dataframe tbody tr th:only-of-type {\n",
       "        vertical-align: middle;\n",
       "    }\n",
       "\n",
       "    .dataframe tbody tr th {\n",
       "        vertical-align: top;\n",
       "    }\n",
       "\n",
       "    .dataframe thead th {\n",
       "        text-align: right;\n",
       "    }\n",
       "</style>\n",
       "<table border=\"1\" class=\"dataframe\">\n",
       "  <thead>\n",
       "    <tr style=\"text-align: right;\">\n",
       "      <th></th>\n",
       "      <th>show_id</th>\n",
       "      <th>type</th>\n",
       "      <th>title</th>\n",
       "      <th>country</th>\n",
       "      <th>date_added</th>\n",
       "      <th>release_year</th>\n",
       "      <th>rating</th>\n",
       "      <th>duration</th>\n",
       "      <th>listed_in</th>\n",
       "      <th>description</th>\n",
       "    </tr>\n",
       "  </thead>\n",
       "  <tbody>\n",
       "    <tr>\n",
       "      <th>5541</th>\n",
       "      <td>s5542</td>\n",
       "      <td>Movie</td>\n",
       "      <td>Louis C.K. 2017</td>\n",
       "      <td>United States</td>\n",
       "      <td>April 4, 2017</td>\n",
       "      <td>2017</td>\n",
       "      <td>74 min</td>\n",
       "      <td>NaN</td>\n",
       "      <td>Movies</td>\n",
       "      <td>Louis C.K. muses on religion, eternal love, gi...</td>\n",
       "    </tr>\n",
       "    <tr>\n",
       "      <th>5794</th>\n",
       "      <td>s5795</td>\n",
       "      <td>Movie</td>\n",
       "      <td>Louis C.K.: Hilarious</td>\n",
       "      <td>United States</td>\n",
       "      <td>September 16, 2016</td>\n",
       "      <td>2010</td>\n",
       "      <td>84 min</td>\n",
       "      <td>NaN</td>\n",
       "      <td>Movies</td>\n",
       "      <td>Emmy-winning comedy writer Louis C.K. brings h...</td>\n",
       "    </tr>\n",
       "    <tr>\n",
       "      <th>5813</th>\n",
       "      <td>s5814</td>\n",
       "      <td>Movie</td>\n",
       "      <td>Louis C.K.: Live at the Comedy Store</td>\n",
       "      <td>United States</td>\n",
       "      <td>August 15, 2016</td>\n",
       "      <td>2015</td>\n",
       "      <td>66 min</td>\n",
       "      <td>NaN</td>\n",
       "      <td>Movies</td>\n",
       "      <td>The comic puts his trademark hilarious/thought...</td>\n",
       "    </tr>\n",
       "  </tbody>\n",
       "</table>\n",
       "</div>"
      ],
      "text/plain": [
       "     show_id   type                                 title        country  \\\n",
       "5541   s5542  Movie                       Louis C.K. 2017  United States   \n",
       "5794   s5795  Movie                 Louis C.K.: Hilarious  United States   \n",
       "5813   s5814  Movie  Louis C.K.: Live at the Comedy Store  United States   \n",
       "\n",
       "              date_added  release_year  rating duration listed_in  \\\n",
       "5541       April 4, 2017          2017  74 min      NaN    Movies   \n",
       "5794  September 16, 2016          2010  84 min      NaN    Movies   \n",
       "5813     August 15, 2016          2015  66 min      NaN    Movies   \n",
       "\n",
       "                                            description  \n",
       "5541  Louis C.K. muses on religion, eternal love, gi...  \n",
       "5794  Emmy-winning comedy writer Louis C.K. brings h...  \n",
       "5813  The comic puts his trademark hilarious/thought...  "
      ]
     },
     "execution_count": 19,
     "metadata": {},
     "output_type": "execute_result"
    }
   ],
   "source": [
    "# Identify rows where duration is NaN and rating looks like duration\n",
    "duration_missing = df[df['duration'].isnull()]\n",
    "misaligned_rows = duration_missing[duration_missing['rating'].str.contains('min', na=False)]\n",
    "misaligned_rows"
   ]
  },
  {
   "cell_type": "code",
   "execution_count": 20,
   "id": "325af090-706c-4de3-a9b3-37fa6987c12f",
   "metadata": {},
   "outputs": [],
   "source": [
    "# Fix misaligned rows: move rating → duration, set rating to NaN\n",
    "df.loc[misaligned_rows.index, 'duration'] = df.loc[misaligned_rows.index, 'rating']\n",
    "df.loc[misaligned_rows.index, 'rating'] = np.nan"
   ]
  },
  {
   "cell_type": "code",
   "execution_count": 21,
   "id": "07840a3e-71f3-4cdf-9304-6a02908a2290",
   "metadata": {},
   "outputs": [
    {
     "data": {
      "text/plain": [
       "(0, 7)"
      ]
     },
     "execution_count": 21,
     "metadata": {},
     "output_type": "execute_result"
    }
   ],
   "source": [
    "# Recheck if any missing durations remain\n",
    "df['duration'].isnull().sum(), df['rating'].isnull().sum()"
   ]
  },
  {
   "cell_type": "markdown",
   "id": "c3f307a3-c88d-4638-a792-972b76c160c5",
   "metadata": {},
   "source": [
    "#### Fix missing rating"
   ]
  },
  {
   "cell_type": "markdown",
   "id": "f30ea272-76dc-426f-b8ce-b6cf1b2ec50d",
   "metadata": {},
   "source": [
    "As we now finally know that the actual missing values are 7 in `rating` column, we can either drop them or replace them. <br>\n",
    "We have TV-MA which is the most common rating and hence we can replace all these nan values with TV-MA."
   ]
  },
  {
   "cell_type": "code",
   "execution_count": 24,
   "id": "487b6743-70ef-4b11-ade3-7c95396f98c5",
   "metadata": {},
   "outputs": [
    {
     "data": {
      "text/plain": [
       "rating\n",
       "TV-MA       3207\n",
       "TV-14       2160\n",
       "TV-PG        863\n",
       "R            799\n",
       "PG-13        490\n",
       "TV-Y7        334\n",
       "TV-Y         307\n",
       "PG           287\n",
       "TV-G         220\n",
       "NR            80\n",
       "G             41\n",
       "TV-Y7-FV       6\n",
       "NC-17          3\n",
       "UR             3\n",
       "Name: count, dtype: int64"
      ]
     },
     "execution_count": 24,
     "metadata": {},
     "output_type": "execute_result"
    }
   ],
   "source": [
    "df['rating'].value_counts()"
   ]
  },
  {
   "cell_type": "code",
   "execution_count": 25,
   "id": "9b263a8d-8ee5-44e8-8576-9a8700622eb5",
   "metadata": {},
   "outputs": [],
   "source": [
    "df['rating'] = df['rating'].replace(np.nan, 'TV-MA')"
   ]
  },
  {
   "cell_type": "code",
   "execution_count": 26,
   "id": "2780ae54-b077-473b-930e-289f42e9ddbc",
   "metadata": {},
   "outputs": [
    {
     "data": {
      "text/plain": [
       "0"
      ]
     },
     "execution_count": 26,
     "metadata": {},
     "output_type": "execute_result"
    }
   ],
   "source": [
    "df['rating'].isnull().sum()"
   ]
  },
  {
   "cell_type": "markdown",
   "id": "85b32075-9939-4d91-bec5-5c3fcbe1c040",
   "metadata": {},
   "source": [
    "#### Fix date_added column"
   ]
  },
  {
   "cell_type": "markdown",
   "id": "dfaaa433-ede2-4ec3-b711-b4bef04c08d1",
   "metadata": {},
   "source": [
    "As I need to parse the `date_added` column in the format \"dd-mm-yyyy\", the best option would be leave the nulls as NaT for now. <br>\n",
    "But before parsing, let's see if there are other inconsistencies in the column."
   ]
  },
  {
   "cell_type": "code",
   "execution_count": 29,
   "id": "569c504a-9db8-442b-9ff8-299630466947",
   "metadata": {},
   "outputs": [
    {
     "data": {
      "text/html": [
       "<div>\n",
       "<style scoped>\n",
       "    .dataframe tbody tr th:only-of-type {\n",
       "        vertical-align: middle;\n",
       "    }\n",
       "\n",
       "    .dataframe tbody tr th {\n",
       "        vertical-align: top;\n",
       "    }\n",
       "\n",
       "    .dataframe thead th {\n",
       "        text-align: right;\n",
       "    }\n",
       "</style>\n",
       "<table border=\"1\" class=\"dataframe\">\n",
       "  <thead>\n",
       "    <tr style=\"text-align: right;\">\n",
       "      <th></th>\n",
       "      <th>show_id</th>\n",
       "      <th>type</th>\n",
       "      <th>title</th>\n",
       "      <th>country</th>\n",
       "      <th>date_added</th>\n",
       "      <th>release_year</th>\n",
       "      <th>rating</th>\n",
       "      <th>duration</th>\n",
       "      <th>listed_in</th>\n",
       "      <th>description</th>\n",
       "    </tr>\n",
       "  </thead>\n",
       "  <tbody>\n",
       "    <tr>\n",
       "      <th>6079</th>\n",
       "      <td>s6080</td>\n",
       "      <td>TV Show</td>\n",
       "      <td>Abnormal Summit</td>\n",
       "      <td>South Korea</td>\n",
       "      <td>August 4, 2017</td>\n",
       "      <td>2017</td>\n",
       "      <td>TV-PG</td>\n",
       "      <td>2 Seasons</td>\n",
       "      <td>International TV Shows, Korean TV Shows, Stand...</td>\n",
       "      <td>Led by a trio of Korean celebs, a multinationa...</td>\n",
       "    </tr>\n",
       "    <tr>\n",
       "      <th>6177</th>\n",
       "      <td>s6178</td>\n",
       "      <td>TV Show</td>\n",
       "      <td>忍者ハットリくん</td>\n",
       "      <td>Japan</td>\n",
       "      <td>December 23, 2018</td>\n",
       "      <td>2012</td>\n",
       "      <td>TV-Y7</td>\n",
       "      <td>2 Seasons</td>\n",
       "      <td>Anime Series, Kids' TV</td>\n",
       "      <td>Hailing from the mountains of Iga, Kanzo Hatto...</td>\n",
       "    </tr>\n",
       "    <tr>\n",
       "      <th>6213</th>\n",
       "      <td>s6214</td>\n",
       "      <td>TV Show</td>\n",
       "      <td>Bad Education</td>\n",
       "      <td>United Kingdom</td>\n",
       "      <td>December 15, 2018</td>\n",
       "      <td>2014</td>\n",
       "      <td>TV-MA</td>\n",
       "      <td>3 Seasons</td>\n",
       "      <td>British TV Shows, TV Comedies</td>\n",
       "      <td>A history teacher at the posh Abbey Grove, Alf...</td>\n",
       "    </tr>\n",
       "    <tr>\n",
       "      <th>6279</th>\n",
       "      <td>s6280</td>\n",
       "      <td>TV Show</td>\n",
       "      <td>Being Mary Jane: The Series</td>\n",
       "      <td>United States</td>\n",
       "      <td>July 1, 2017</td>\n",
       "      <td>2016</td>\n",
       "      <td>TV-14</td>\n",
       "      <td>4 Seasons</td>\n",
       "      <td>Romantic TV Shows, TV Dramas</td>\n",
       "      <td>Ambitious single TV journalist Mary Jane attem...</td>\n",
       "    </tr>\n",
       "    <tr>\n",
       "      <th>6304</th>\n",
       "      <td>s6305</td>\n",
       "      <td>TV Show</td>\n",
       "      <td>Big Dreams, Small Spaces</td>\n",
       "      <td>United Kingdom</td>\n",
       "      <td>July 26, 2019</td>\n",
       "      <td>2017</td>\n",
       "      <td>TV-G</td>\n",
       "      <td>3 Seasons</td>\n",
       "      <td>British TV Shows, International TV Shows, Real...</td>\n",
       "      <td>Writer and presenter Monty Don helps England's...</td>\n",
       "    </tr>\n",
       "    <tr>\n",
       "      <th>...</th>\n",
       "      <td>...</td>\n",
       "      <td>...</td>\n",
       "      <td>...</td>\n",
       "      <td>...</td>\n",
       "      <td>...</td>\n",
       "      <td>...</td>\n",
       "      <td>...</td>\n",
       "      <td>...</td>\n",
       "      <td>...</td>\n",
       "      <td>...</td>\n",
       "    </tr>\n",
       "    <tr>\n",
       "      <th>8539</th>\n",
       "      <td>s8540</td>\n",
       "      <td>TV Show</td>\n",
       "      <td>The Tudors</td>\n",
       "      <td>Ireland, Canada, United States, United Kingdom</td>\n",
       "      <td>January 8, 2018</td>\n",
       "      <td>2010</td>\n",
       "      <td>TV-MA</td>\n",
       "      <td>4 Seasons</td>\n",
       "      <td>TV Dramas</td>\n",
       "      <td>All the splendor and scandal of England's 16th...</td>\n",
       "    </tr>\n",
       "    <tr>\n",
       "      <th>8557</th>\n",
       "      <td>s8558</td>\n",
       "      <td>TV Show</td>\n",
       "      <td>The West Wing</td>\n",
       "      <td>United States</td>\n",
       "      <td>December 25, 2015</td>\n",
       "      <td>2005</td>\n",
       "      <td>TV-14</td>\n",
       "      <td>7 Seasons</td>\n",
       "      <td>TV Dramas</td>\n",
       "      <td>This powerful political epic chronicles the tr...</td>\n",
       "    </tr>\n",
       "    <tr>\n",
       "      <th>8684</th>\n",
       "      <td>s8685</td>\n",
       "      <td>TV Show</td>\n",
       "      <td>Vroomiz</td>\n",
       "      <td>South Korea</td>\n",
       "      <td>August 1, 2017</td>\n",
       "      <td>2016</td>\n",
       "      <td>TV-Y</td>\n",
       "      <td>3 Seasons</td>\n",
       "      <td>Kids' TV, Korean TV Shows</td>\n",
       "      <td>For these half-car, half-animal friends, each ...</td>\n",
       "    </tr>\n",
       "    <tr>\n",
       "      <th>8712</th>\n",
       "      <td>s8713</td>\n",
       "      <td>TV Show</td>\n",
       "      <td>Weird Wonders of the World</td>\n",
       "      <td>United Kingdom</td>\n",
       "      <td>March 31, 2017</td>\n",
       "      <td>2016</td>\n",
       "      <td>TV-PG</td>\n",
       "      <td>2 Seasons</td>\n",
       "      <td>British TV Shows, Docuseries, Science &amp; Nature TV</td>\n",
       "      <td>From animal oddities and bizarre science to me...</td>\n",
       "    </tr>\n",
       "    <tr>\n",
       "      <th>8755</th>\n",
       "      <td>s8756</td>\n",
       "      <td>TV Show</td>\n",
       "      <td>Women Behind Bars</td>\n",
       "      <td>United States</td>\n",
       "      <td>November 1, 2016</td>\n",
       "      <td>2010</td>\n",
       "      <td>TV-14</td>\n",
       "      <td>3 Seasons</td>\n",
       "      <td>Crime TV Shows, Docuseries</td>\n",
       "      <td>This reality series recounts true stories of w...</td>\n",
       "    </tr>\n",
       "  </tbody>\n",
       "</table>\n",
       "<p>88 rows × 10 columns</p>\n",
       "</div>"
      ],
      "text/plain": [
       "     show_id     type                        title  \\\n",
       "6079   s6080  TV Show              Abnormal Summit   \n",
       "6177   s6178  TV Show                     忍者ハットリくん   \n",
       "6213   s6214  TV Show                Bad Education   \n",
       "6279   s6280  TV Show  Being Mary Jane: The Series   \n",
       "6304   s6305  TV Show     Big Dreams, Small Spaces   \n",
       "...      ...      ...                          ...   \n",
       "8539   s8540  TV Show                   The Tudors   \n",
       "8557   s8558  TV Show                The West Wing   \n",
       "8684   s8685  TV Show                      Vroomiz   \n",
       "8712   s8713  TV Show   Weird Wonders of the World   \n",
       "8755   s8756  TV Show            Women Behind Bars   \n",
       "\n",
       "                                             country          date_added  \\\n",
       "6079                                     South Korea      August 4, 2017   \n",
       "6177                                           Japan   December 23, 2018   \n",
       "6213                                  United Kingdom   December 15, 2018   \n",
       "6279                                   United States        July 1, 2017   \n",
       "6304                                  United Kingdom       July 26, 2019   \n",
       "...                                              ...                 ...   \n",
       "8539  Ireland, Canada, United States, United Kingdom     January 8, 2018   \n",
       "8557                                   United States   December 25, 2015   \n",
       "8684                                     South Korea      August 1, 2017   \n",
       "8712                                  United Kingdom      March 31, 2017   \n",
       "8755                                   United States    November 1, 2016   \n",
       "\n",
       "      release_year rating   duration  \\\n",
       "6079          2017  TV-PG  2 Seasons   \n",
       "6177          2012  TV-Y7  2 Seasons   \n",
       "6213          2014  TV-MA  3 Seasons   \n",
       "6279          2016  TV-14  4 Seasons   \n",
       "6304          2017   TV-G  3 Seasons   \n",
       "...            ...    ...        ...   \n",
       "8539          2010  TV-MA  4 Seasons   \n",
       "8557          2005  TV-14  7 Seasons   \n",
       "8684          2016   TV-Y  3 Seasons   \n",
       "8712          2016  TV-PG  2 Seasons   \n",
       "8755          2010  TV-14  3 Seasons   \n",
       "\n",
       "                                              listed_in  \\\n",
       "6079  International TV Shows, Korean TV Shows, Stand...   \n",
       "6177                             Anime Series, Kids' TV   \n",
       "6213                      British TV Shows, TV Comedies   \n",
       "6279                       Romantic TV Shows, TV Dramas   \n",
       "6304  British TV Shows, International TV Shows, Real...   \n",
       "...                                                 ...   \n",
       "8539                                          TV Dramas   \n",
       "8557                                          TV Dramas   \n",
       "8684                          Kids' TV, Korean TV Shows   \n",
       "8712  British TV Shows, Docuseries, Science & Nature TV   \n",
       "8755                         Crime TV Shows, Docuseries   \n",
       "\n",
       "                                            description  \n",
       "6079  Led by a trio of Korean celebs, a multinationa...  \n",
       "6177  Hailing from the mountains of Iga, Kanzo Hatto...  \n",
       "6213  A history teacher at the posh Abbey Grove, Alf...  \n",
       "6279  Ambitious single TV journalist Mary Jane attem...  \n",
       "6304  Writer and presenter Monty Don helps England's...  \n",
       "...                                                 ...  \n",
       "8539  All the splendor and scandal of England's 16th...  \n",
       "8557  This powerful political epic chronicles the tr...  \n",
       "8684  For these half-car, half-animal friends, each ...  \n",
       "8712  From animal oddities and bizarre science to me...  \n",
       "8755  This reality series recounts true stories of w...  \n",
       "\n",
       "[88 rows x 10 columns]"
      ]
     },
     "execution_count": 29,
     "metadata": {},
     "output_type": "execute_result"
    }
   ],
   "source": [
    "# Find rows with leading/trailing whitespace\n",
    "df[df['date_added'].str.contains(r'^\\s+|\\s+$', na=False)]"
   ]
  },
  {
   "cell_type": "code",
   "execution_count": 30,
   "id": "d738227e-0100-4f51-86ed-6a549e634f64",
   "metadata": {},
   "outputs": [],
   "source": [
    "# Clean the column by removing the whitespaces\n",
    "df['date_added'] = df['date_added'].str.strip()"
   ]
  },
  {
   "cell_type": "markdown",
   "id": "93e97b62-1467-4b12-96d8-13cff5cb1f36",
   "metadata": {},
   "source": [
    "Now that we removed the whitespaces from the values, we can parse the dates"
   ]
  },
  {
   "cell_type": "code",
   "execution_count": 32,
   "id": "cb10511d-f1e8-4d19-9788-6c4c15fd18ad",
   "metadata": {},
   "outputs": [],
   "source": [
    "# Convert to datetime (this will also convert invalid or missing to NaT)\n",
    "df['date_added'] = pd.to_datetime(df['date_added'], errors='coerce')"
   ]
  },
  {
   "cell_type": "code",
   "execution_count": 33,
   "id": "feec74a2-cf72-4872-b706-ad922470bda6",
   "metadata": {},
   "outputs": [],
   "source": [
    "# Format the dates to 'dd-mm-yyyy' and replacing NaT values with 'Unavailable'\n",
    "df['date_added'] = df['date_added'].dt.strftime('%d-%m-%Y')\n",
    "df['date_added'] = df['date_added'].fillna('Unavailable')"
   ]
  },
  {
   "cell_type": "code",
   "execution_count": 34,
   "id": "bd839f5a-8be6-4eb9-aa21-17508f364794",
   "metadata": {},
   "outputs": [
    {
     "name": "stdout",
     "output_type": "stream",
     "text": [
      "Missing 'date_added' after parsing: 0\n"
     ]
    }
   ],
   "source": [
    "# Check how many values are still missing\n",
    "print(\"Missing 'date_added' after parsing:\", df['date_added'].isnull().sum())"
   ]
  },
  {
   "cell_type": "markdown",
   "id": "b23284c8-38d3-4fb7-9fbb-58d1112f3cf7",
   "metadata": {},
   "source": [
    "#### Now our dataset is ready for the further analysis and visualization"
   ]
  }
 ],
 "metadata": {
  "kernelspec": {
   "display_name": "Python 3 (ipykernel)",
   "language": "python",
   "name": "python3"
  },
  "language_info": {
   "codemirror_mode": {
    "name": "ipython",
    "version": 3
   },
   "file_extension": ".py",
   "mimetype": "text/x-python",
   "name": "python",
   "nbconvert_exporter": "python",
   "pygments_lexer": "ipython3",
   "version": "3.12.3"
  }
 },
 "nbformat": 4,
 "nbformat_minor": 5
}
